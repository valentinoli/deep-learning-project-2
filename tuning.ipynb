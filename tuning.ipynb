{
 "cells": [
  {
   "cell_type": "code",
   "execution_count": null,
   "metadata": {},
   "outputs": [],
   "source": [
    "from torch import empty\n",
    "from torch.random import manual_seed\n",
    "from matplotlib import pyplot as plt\n",
    "\n",
    "import modules as m\n",
    "from data import generate_data\n",
    "from helpers import optimize, pickle_dump, pickle_load\n",
    "\n",
    "manual_seed(42)\n",
    "\n",
    "%load_ext autoreload\n",
    "%autoreload 2"
   ]
  },
  {
   "cell_type": "code",
   "execution_count": null,
   "metadata": {},
   "outputs": [],
   "source": [
    "num_samples=1000\n",
    "epochs=100\n",
    "train_data, test_data = generate_data(num_samples)"
   ]
  },
  {
   "cell_type": "code",
   "execution_count": null,
   "metadata": {},
   "outputs": [],
   "source": [
    "def tune_model(model):    \n",
    "    learning_rates = 0.01 * 2**np.arange(8)\n",
    "    batch_sizes = [1, 10, 25, 50, 100, 200, 500, num_samples]\n",
    "\n",
    "    results = []\n",
    "    for batch_size in batch_sizes:\n",
    "        best_loss = best_learning_rate = best_batch_losses = None\n",
    "        for learning_rate in learning_rates:\n",
    "            batch_losses, train_losses, test_losses = optimize(\n",
    "                model,\n",
    "                train_data,\n",
    "                test_data,\n",
    "                epochs=epochs,\n",
    "                batch_size=batch_size,\n",
    "                lr=learning_rate,\n",
    "                verbose=False\n",
    "            )\n",
    "            best_loss_achieved = test_losses.min().item()\n",
    "            if best_loss is None or best_loss_achieved < best_loss:\n",
    "                best_loss = best_loss_achieved\n",
    "                best_learning_rate = learning_rate\n",
    "                best_batch_losses = batch_losses\n",
    "                best_test_losses = test_losses\n",
    "                best_train_losses = train_losses\n",
    "        results.append((batch_size, best_learning_rate, best_batch_losses, best_test_losses, best_train_losses))\n",
    "    return results"
   ]
  },
  {
   "cell_type": "code",
   "execution_count": null,
   "metadata": {},
   "outputs": [],
   "source": [
    "filename = 'results'\n",
    "try:\n",
    "    results = pickle_load(filename)\n",
    "except FileNotFoundError:\n",
    "    input_dim = 2\n",
    "    output_dim = 1\n",
    "    nb_hidden = 25\n",
    "    model = m.Sequential(\n",
    "        m.Linear(input_dim, nb_hidden),\n",
    "        m.Tanh(),\n",
    "        m.Linear(nb_hidden),\n",
    "        m.Tanh(),\n",
    "        m.Linear(nb_hidden),\n",
    "        m.Tanh(),\n",
    "        m.Linear(nb_hidden, output_dim),\n",
    "        m.Sigmoid()\n",
    "    )\n",
    "    results = tune_model(model)\n",
    "    pickle_dump(filename, results)"
   ]
  },
  {
   "cell_type": "code",
   "execution_count": null,
   "metadata": {},
   "outputs": [],
   "source": [
    "def best_so_far(tensor):\n",
    "    ndarr = tensor.numpy()\n",
    "    for i, el in enumerate(ndarr):\n",
    "        if i > 0 and ndarr[i-1] < ndarr[i]:\n",
    "            ndarr[i] = ndarr[i-1]\n",
    "    return ndarr"
   ]
  },
  {
   "cell_type": "code",
   "execution_count": null,
   "metadata": {},
   "outputs": [],
   "source": [
    "fig, ax = plt.subplots(figsize=(9, 5))\n",
    "plt.yscale('log') \n",
    "for batch_size, lr, batch_losses, _, _ in results:\n",
    "    x = range(batch_size, batch_size * len(batch_losses) + batch_size, batch_size)\n",
    "    ax.plot(x, best_so_far(batch_losses), label = batch_size)\n",
    "\n",
    "plt.title('Training loss measured after each minibatch')\n",
    "plt.xlabel('Number of samples seen')\n",
    "plt.ylabel('log(loss)')\n",
    "plt.legend(title='Batch size');\n",
    "plt.savefig('plots/loss-per-minibatch');"
   ]
  },
  {
   "cell_type": "code",
   "execution_count": null,
   "metadata": {},
   "outputs": [],
   "source": [
    "fig, ax = plt.subplots(figsize=(9, 5))\n",
    "plt.yscale('log') \n",
    "for batch_size, lr, _, _, train_losses in results:\n",
    "    N = num_samples\n",
    "    x = range(N, epochs * N + N, N)\n",
    "    ax.plot(x, best_so_far(train_losses), label = batch_size)\n",
    "\n",
    "plt.title('Training loss measured after each epoch')\n",
    "plt.xlabel('Number of samples seen')\n",
    "plt.ylabel('log(loss)')\n",
    "plt.legend(title='Batch size')\n",
    "plt.savefig('plots/loss-per-epoch');"
   ]
  }
 ],
 "metadata": {
  "kernelspec": {
   "display_name": "deeplearning-env",
   "language": "python",
   "name": "deeplearning-env"
  },
  "language_info": {
   "codemirror_mode": {
    "name": "ipython",
    "version": 3
   },
   "file_extension": ".py",
   "mimetype": "text/x-python",
   "name": "python",
   "nbconvert_exporter": "python",
   "pygments_lexer": "ipython3",
   "version": "3.9.1"
  }
 },
 "nbformat": 4,
 "nbformat_minor": 4
}
